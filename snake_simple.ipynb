{
 "cells": [
  {
   "cell_type": "code",
   "execution_count": 1,
   "id": "3fe80b49",
   "metadata": {},
   "outputs": [
    {
     "name": "stdout",
     "output_type": "stream",
     "text": [
      "pygame 2.1.2 (SDL 2.0.16, Python 3.10.4)\n",
      "Hello from the pygame community. https://www.pygame.org/contribute.html\n"
     ]
    }
   ],
   "source": [
    "import numpy as np\n",
    "import pygame\n",
    "import random\n",
    "import time"
   ]
  },
  {
   "cell_type": "code",
   "execution_count": 2,
   "id": "c8580756",
   "metadata": {},
   "outputs": [],
   "source": [
    "x=60\n",
    "y=60\n",
    "border = np.ones((x,y))\n",
    "map_full = np.zeros((x-2,y-2))\n",
    "border[1:-1,1:-1] = map_full\n",
    "map_full = border"
   ]
  },
  {
   "cell_type": "code",
   "execution_count": 3,
   "id": "6888f14b",
   "metadata": {
    "scrolled": true
   },
   "outputs": [
    {
     "name": "stdout",
     "output_type": "stream",
     "text": [
      "its OGRE\n"
     ]
    }
   ],
   "source": [
    "pygame.init()\n",
    "pygame.display.set_caption('THE GAME')\n",
    "screen = pygame.display.set_mode((960, 960),0,32)\n",
    "display = pygame.Surface((300, 300))\n",
    "\n",
    "tileimg = pygame.image.load('tile.png').convert()\n",
    "emptyimg = pygame.image.load(\"empty.png\").convert()\n",
    "foodimg = pygame.image.load(\"food.png\").convert()\n",
    "\n",
    "head = [random.randint(2,x-2),random.randint(2,y-2)]\n",
    "snakelength = 1\n",
    "snakelist = []\n",
    "\n",
    "white = (255, 255, 255)\n",
    "yellow = (255, 255, 102)\n",
    "black = (0, 0, 0)\n",
    "red = (213, 50, 80)\n",
    "green = (0, 255, 0)\n",
    "blue = (50, 153, 213)\n",
    "\n",
    "foodx = random.randint(2,x-2)\n",
    "foody = random.randint(2,y-2)\n",
    "\n",
    "visible=True\n",
    "clock = pygame.time.Clock()\n",
    "speed = 0\n",
    "\n",
    "its_not_ogre = True\n",
    "its_ogre = False\n",
    "\n",
    "x1_per_loop=0\n",
    "y1_per_loop=0\n",
    "\n",
    "\n",
    "while its_not_ogre:\n",
    "    if its_ogre ==True:\n",
    "        print(\"its OGRE\")\n",
    "        its_not_ogre=False\n",
    "\n",
    "    x1 = head[0]\n",
    "    y1 = head[1]\n",
    "    \n",
    "    keys = pygame.key.get_pressed()\n",
    "    \n",
    "    if (keys[pygame.K_RIGHT]):\n",
    "        x1_per_loop =1\n",
    "        y1_per_loop=0\n",
    "    if (keys[pygame.K_LEFT]):\n",
    "        x1_per_loop =-1\n",
    "        y1_per_loop=0\n",
    "    if (keys[pygame.K_DOWN]):\n",
    "        y1_per_loop=1\n",
    "        x1_per_loop=0\n",
    "    if (keys[pygame.K_UP]):\n",
    "        y1_per_loop=-1\n",
    "        x1_per_loop=0\n",
    "    \n",
    "    x1+=x1_per_loop\n",
    "    y1+=y1_per_loop\n",
    "    \n",
    "    if head[0]==foodx and head[1]==foody:\n",
    "        foodx = random.randint(2,x-2)\n",
    "        foody = random.randint(2,y-2)\n",
    "        snakelength+=1\n",
    "\n",
    "    head = []\n",
    "    head.append(x1)\n",
    "    head.append(y1)\n",
    "    snakelist.append(head)\n",
    "    \n",
    "    if len(snakelist)>snakelength:\n",
    "        del snakelist[0]\n",
    "    \n",
    "    for x in snakelist[:-1]:\n",
    "        if x == head:\n",
    "            its_ogre = True\n",
    "    \n",
    "    if x1 >= len(map_full[0]) or x1 < 0 or y1 >= len(map_full) or y1 < 0:\n",
    "        its_ogre = True\n",
    "\n",
    "    clock.tick(15)\n",
    "    pygame.event.pump()\n",
    "    \n",
    "    if visible==True:\n",
    "        for y, row in enumerate(map_full):\n",
    "            for x, tile in enumerate(row):\n",
    "                if tile == 1:\n",
    "                    screen.blit(tileimg,(x*16,y*16))\n",
    "                elif tile == 0:\n",
    "                    screen.blit(emptyimg,(x*16,y*16))\n",
    "        \n",
    "        for index, point in enumerate(snakelist):\n",
    "            screen.blit(tileimg,(point[0]*16,point[1]*16))\n",
    "    \n",
    "        screen.blit(foodimg,(foodx*16,foody*16))\n",
    "        \n",
    "        pygame.display.flip()"
   ]
  },
  {
   "cell_type": "code",
   "execution_count": null,
   "id": "a1552637",
   "metadata": {},
   "outputs": [],
   "source": []
  },
  {
   "cell_type": "code",
   "execution_count": null,
   "id": "e68c9279",
   "metadata": {},
   "outputs": [],
   "source": []
  },
  {
   "cell_type": "code",
   "execution_count": null,
   "id": "5b5fe794",
   "metadata": {},
   "outputs": [],
   "source": []
  }
 ],
 "metadata": {
  "kernelspec": {
   "display_name": "Python 3.10.4 64-bit",
   "language": "python",
   "name": "python3"
  },
  "language_info": {
   "codemirror_mode": {
    "name": "ipython",
    "version": 3
   },
   "file_extension": ".py",
   "mimetype": "text/x-python",
   "name": "python",
   "nbconvert_exporter": "python",
   "pygments_lexer": "ipython3",
   "version": "3.10.4"
  },
  "vscode": {
   "interpreter": {
    "hash": "916dbcbb3f70747c44a77c7bcd40155683ae19c65e1c03b4aa3499c5328201f1"
   }
  }
 },
 "nbformat": 4,
 "nbformat_minor": 5
}
